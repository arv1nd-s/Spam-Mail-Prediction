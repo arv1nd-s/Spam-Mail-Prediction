{
 "cells": [
  {
   "cell_type": "markdown",
   "id": "40575d73",
   "metadata": {},
   "source": [
    "# Spam Mail Prediction"
   ]
  },
  {
   "cell_type": "markdown",
   "id": "4d928c66",
   "metadata": {},
   "source": [
    "### Importing Dependencies"
   ]
  },
  {
   "cell_type": "code",
   "execution_count": null,
   "id": "81bf80d0",
   "metadata": {},
   "outputs": [],
   "source": [
    "import numpy as np\n",
    "import pandas as pd\n",
    "from sklearn.model_selection import train_test_split\n",
    "from sklearn.feature_extraction.text import TfidfVectorizer\n",
    "from sklearn.linear_model import LogisticRegression\n",
    "from sklearn.metrics import accuracy_score"
   ]
  },
  {
   "cell_type": "markdown",
   "id": "9bf0586a",
   "metadata": {},
   "source": [
    "### Data Collection & Preprocessing"
   ]
  },
  {
   "cell_type": "code",
   "execution_count": null,
   "id": "e2670f77",
   "metadata": {},
   "outputs": [],
   "source": [
    "# Loading the data from csv file into a pandas dataframe\n",
    "raw_mail_data = pd.read_csv('mail_data.csv')\n",
    "\n",
    "# Replace the null values with null strings\n",
    "mail_data = raw_mail_data.where((pd.notnull(raw_mail_data)), '')"
   ]
  },
  {
   "cell_type": "markdown",
   "id": "4a01de8d",
   "metadata": {},
   "source": [
    "### Label Encoding"
   ]
  },
  {
   "cell_type": "code",
   "execution_count": null,
   "id": "5480b41d",
   "metadata": {},
   "outputs": [],
   "source": [
    "# Labelling spam mail as 0, and ham mail as 1\n",
    "mail_data.loc[mail_data['Category']=='spam', 'Category'] = 0\n",
    "mail_data.loc[mail_data['Category']=='ham', 'Category'] = 1\n",
    "\n",
    "# Separating the data as texts and label\n",
    "X = mail_data['Message']\n",
    "y = mail_data['Category']"
   ]
  },
  {
   "cell_type": "markdown",
   "id": "f99bd11e",
   "metadata": {},
   "source": [
    "### Splitting the data into training data and test data"
   ]
  },
  {
   "cell_type": "code",
   "execution_count": null,
   "id": "e85d1ccf",
   "metadata": {},
   "outputs": [],
   "source": [
    "X_train, X_test, y_train, y_test = train_test_split(X, y, test_size=0.2, random_state=3)"
   ]
  },
  {
   "cell_type": "markdown",
   "id": "7cf9f96c",
   "metadata": {},
   "source": [
    "### Feature Extraction"
   ]
  },
  {
   "cell_type": "code",
   "execution_count": null,
   "id": "4e9f752b",
   "metadata": {},
   "outputs": [],
   "source": [
    "# Transforming the text data into feature vectors that will be used as input to the Logistic Regression\n",
    "feature_extraction = TfidfVectorizer(min_df = 1, stop_words = 'english', lowercase=True)\n",
    "X_train_features = feature_extraction.fit_transform(X_train)\n",
    "X_test_features = feature_extraction.transform(X_test)\n",
    "\n",
    "# Converting y_train and y_test values into integer data types\n",
    "y_train = y_train.astype('int')\n",
    "y_test = y_test.astype('int')"
   ]
  },
  {
   "cell_type": "markdown",
   "id": "5500d5a7",
   "metadata": {},
   "source": [
    "### Training the model"
   ]
  },
  {
   "cell_type": "code",
   "execution_count": null,
   "id": "c9b96df2",
   "metadata": {},
   "outputs": [],
   "source": [
    "model = LogisticRegression()\n",
    "\n",
    "# Training the logistic regression model with the training data\n",
    "model.fit(X_train_features, y_train)"
   ]
  },
  {
   "cell_type": "markdown",
   "id": "777dd615",
   "metadata": {},
   "source": [
    "### Evaluating the trained model"
   ]
  },
  {
   "cell_type": "code",
   "execution_count": null,
   "id": "3aba46e0",
   "metadata": {},
   "outputs": [],
   "source": [
    "# Prediction on training data\n",
    "prediction_on_training_data = model.predict(X_train_features)\n",
    "accuracy_on_training_data = accuracy_score(y_train, prediction_on_training_data)\n",
    "print('Accuracy on training data: ', accuracy_on_training_data)\n",
    "\n",
    "# Prediction on testing data\n",
    "prediction_on_testing_data = model.predict(X_test_features)\n",
    "accuracy_on_testing_data = accuracy_score(y_test, prediction_on_testing_data)\n",
    "print('Accuracy on testing data: ', accuracy_on_testing_data)"
   ]
  },
  {
   "cell_type": "markdown",
   "id": "dc1da9e5",
   "metadata": {},
   "source": [
    "### Building a predictive system"
   ]
  },
  {
   "cell_type": "code",
   "execution_count": null,
   "id": "08e2dd63",
   "metadata": {
    "scrolled": false
   },
   "outputs": [],
   "source": [
    "input_msg = input('Enter the message you want to predict:')\n",
    "input_msg = [input_msg]\n",
    "             \n",
    "# Convert text to feature vectors\n",
    "input_msg_features = feature_extraction.transform(input_msg)\n",
    "\n",
    "# Making prediction\n",
    "ans = model.predict(input_msg_features)\n",
    "\n",
    "if ans == 1:\n",
    "    print('Ham mail')\n",
    "else:\n",
    "    print('Spam mail')"
   ]
  }
 ],
 "metadata": {
  "kernelspec": {
   "display_name": "Python 3 (ipykernel)",
   "language": "python",
   "name": "python3"
  },
  "language_info": {
   "codemirror_mode": {
    "name": "ipython",
    "version": 3
   },
   "file_extension": ".py",
   "mimetype": "text/x-python",
   "name": "python",
   "nbconvert_exporter": "python",
   "pygments_lexer": "ipython3",
   "version": "3.9.7"
  }
 },
 "nbformat": 4,
 "nbformat_minor": 5
}
